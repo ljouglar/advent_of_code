{
 "cells": [
  {
   "cell_type": "markdown",
   "metadata": {},
   "source": [
    "## Tests Copilot"
   ]
  },
  {
   "cell_type": "code",
   "execution_count": 3,
   "metadata": {},
   "outputs": [
    {
     "name": "stdout",
     "output_type": "stream",
     "text": [
      "Your numbers are: 21 7 35 42 11 and your stars are: 1 4\n",
      "{ aaa: 'AAA', bbb: 'BBB', ccc: 'CCC' }\n",
      "15726453850399\n"
     ]
    }
   ],
   "source": [
    "const generateEuromillionNumbers = (): void => {\n",
    "  const numbers: Array<number> = [];\n",
    "  const stars: Array<number> = [];\n",
    "  while (numbers.length < 5) {\n",
    "    const number: number = Math.floor(Math.random() * 50) + 1;\n",
    "    if (!numbers.includes(number)) {\n",
    "      numbers.push(number);\n",
    "    }\n",
    "  }\n",
    "  while (stars.length < 2) {\n",
    "    const star: number = Math.floor(Math.random() * 12) + 1;\n",
    "    if (!stars.includes(star)) {\n",
    "      stars.push(star);\n",
    "    }\n",
    "  }\n",
    "  console.log(\n",
    "    `Your numbers are: ${numbers.join(\" \")} and your stars are: ${stars.join(\n",
    "      \" \"\n",
    "    )}`\n",
    "  );\n",
    "};\n",
    "generateEuromillionNumbers();\n",
    "\n",
    "// Write a function that takes a string formatted like \"AAA: (BBB, CCC)\" and returns an object with properties aaa, bbb and ccc.\n",
    "// use match method in conjunction with Array.from\n",
    "// Language: typescript\n",
    "const formatString = (str: string): object => {\n",
    "  const [aaa, bbb, ccc] = Array.from(str.match(/\\w+/g) || []);\n",
    "  return { aaa, bbb, ccc };\n",
    "}\n",
    "\n",
    "console.log(formatString(\"AAA: (BBB, CCC)\"));\n",
    "\n",
    "const pluPetitCommunMultiple = (numbers: Array<number>): number => {\n",
    "  const max = Math.max(...numbers);\n",
    "  let result = max;\n",
    "  while (true) {\n",
    "    if (numbers.every((number) => result % number === 0)) {\n",
    "      return result;\n",
    "    }\n",
    "    result += max;\n",
    "  }\n",
    "}\n",
    "\n",
    "// console.log(pluPetitCommunMultiple([19199, 11309, 17621, 20777, 16043, 15517])) // 16 s\n",
    "\n",
    "const gcd = (a, b) => b == 0 ? a : gcd (b, a % b)\n",
    "const lcm = (a, b) =>  a / gcd (a, b) * b\n",
    "const lcmAll = (ns) => ns .reduce (lcm, 1)\n",
    "console.log(lcmAll([19199, 11309, 17621, 20777, 16043, 15517])) // instantané"
   ]
  },
  {
   "cell_type": "code",
   "execution_count": null,
   "metadata": {},
   "outputs": [],
   "source": []
  }
 ],
 "metadata": {
  "kernelspec": {
   "display_name": "TypeScript",
   "language": "typescript",
   "name": "tslab"
  },
  "language_info": {
   "codemirror_mode": {
    "mode": "typescript",
    "name": "javascript",
    "typescript": true
   },
   "file_extension": ".ts",
   "mimetype": "text/typescript",
   "name": "typescript",
   "version": "3.7.2"
  }
 },
 "nbformat": 4,
 "nbformat_minor": 2
}
